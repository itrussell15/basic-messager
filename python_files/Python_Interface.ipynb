{
 "cells": [
  {
   "cell_type": "code",
   "execution_count": 1,
   "metadata": {},
   "outputs": [],
   "source": [
    "import urllib, json, requests\n",
    "import datetime\n",
    "import imaplib\n",
    "import email as em\n",
    "from bs4 import BeautifulSoup"
   ]
  },
  {
   "cell_type": "code",
   "execution_count": 44,
   "metadata": {},
   "outputs": [],
   "source": [
    "class Messager:\n",
    "    def __init__(self, url, email, password):\n",
    "        self.url = url\n",
    "        self.email = email\n",
    "        self.password = password\n",
    "    \n",
    "    def error_handler(self, req):\n",
    "        if req.status_code != 200:\n",
    "            print(req.status_code)\n",
    "            req.raise_for_status()\n",
    "            \n",
    "    def get_messages(self):\n",
    "        output = requests.get(url)\n",
    "        self.error_handler(output)\n",
    "        messages = output.json()\n",
    "        if len(messages) != 0:\n",
    "            for mes in messages:\n",
    "                mes[\"message_date\"] = datetime.datetime.strptime(mes[\"message_date\"][:-6], \\\n",
    "                     \"%a, %m %b %Y %H:%M:%S\")\n",
    "            messages.sort(key = lambda x: x[\"message_date\"])\n",
    "            return messages\n",
    "        else:\n",
    "            print(\"No messages found\")\n",
    "            return None\n",
    "    \n",
    "    def create_message(self, payload):\n",
    "        req = requests.post(url, json = payload)\n",
    "        self.error_handler(req)\n",
    "            \n",
    "    def delete_message(self, _id):\n",
    "        req = requests.delete(url + \"/{}\".format(_id))\n",
    "        self.error_handler(req)\n",
    "    \n",
    "    def clear_all_messages(self):\n",
    "        req = requests.delete(url)\n",
    "        self.error_handler(req)\n",
    "        print(\"All messages have been deleted\")\n",
    "    \n",
    "    def mark_seen(self, _id):\n",
    "        body = {\"seen\": True}\n",
    "        req = requests.put(url + \"/{}\".format(_id), json = body)\n",
    "        self.error_handler(req)\n",
    "        \n",
    "    def check_unread(self, server = \"imap.gmail.com\"):\n",
    "        con = imaplib.IMAP4_SSL(server)\n",
    "        con.login(self.email, self.password)\n",
    "        con.select(\"Inbox\")\n",
    "        typ, data = con.search(None, \"(UNSEEN)\")\n",
    "        msgs = []\n",
    "        for num in data[0].split():\n",
    "            typ, data = con.fetch(num, \"(RFC822)\")\n",
    "            msg = em.message_from_bytes(data[0][1])\n",
    "            output = {}\n",
    "            output[\"author\"] = \" \".join(msg[\"From\"].split()[:-1])\n",
    "            output[\"message_date\"] = msg[\"Date\"]\n",
    "            soup = BeautifulSoup(msg.get_payload()[1].as_string())\n",
    "            output[\"body\"] = soup.find(\"body\").find(\"div\").get_text()\n",
    "            typ, data = con.store(num, \"-FLAGS\", \"//Seen\")\n",
    "            msgs.append(output)\n",
    "        if len(msgs) == 0:\n",
    "            print(\"No unread messages found\")\n",
    "            return None\n",
    "        else:\n",
    "            return msgs\n",
    "    \n",
    "    def push_new_messages(self):\n",
    "        msgs = self.check_unread()\n",
    "        if msgs:\n",
    "            print(\"{} unread message(s)\".format(len(msgs)))\n",
    "            for m in msgs:\n",
    "                self.create_message(m)\n",
    "                \n",
    "    def get_queued_message(self):\n",
    "        msgs = self.get_messages()\n",
    "        for i in msgs:\n",
    "            if i[\"seen\"] == False:\n",
    "                break\n",
    "        if i[\"seen\"] == True:\n",
    "            print(\"No messages to present\")\n",
    "            return None\n",
    "        else:\n",
    "            self.mark_seen(i[\"_id\"])\n",
    "            return i\n",
    "        \n",
    "    def delete_old_messages(self, thres = 5):\n",
    "        cut = datetime.timedelta(hours = 1, days = thres)\n",
    "        count = 0\n",
    "        for msg in self.get_messages():\n",
    "            diff = datetime.datetime.now() - msg[\"message_date\"]\n",
    "            if diff > cut:\n",
    "                print(\"Message Deleted w/ Body: {}\".format(msg[\"body\"]))\n",
    "                self.delete_message(msg[\"_id\"])\n",
    "                count += 1\n",
    "        return count"
   ]
  },
  {
   "cell_type": "markdown",
   "metadata": {},
   "source": [
    "Initialize with this code section"
   ]
  },
  {
   "cell_type": "code",
   "execution_count": 49,
   "metadata": {},
   "outputs": [],
   "source": [
    "url = \"http://localhost:3000/message\"\n",
    "email = \"message.reader15@gmail.com\"\n",
    "password = \"zacisa12\"\n",
    "m = Messager(url, email, password)"
   ]
  },
  {
   "cell_type": "markdown",
   "metadata": {},
   "source": [
    "This section should run in a loop"
   ]
  },
  {
   "cell_type": "code",
   "execution_count": 50,
   "metadata": {},
   "outputs": [
    {
     "name": "stdout",
     "output_type": "stream",
     "text": [
      "No unread messages found\n",
      "{'email': None, 'seen': False, '_id': '5e37b3d1f85ce829f04f4fae', 'author': 'Isaac Trussell', 'message_date': datetime.datetime(2020, 2, 1, 15, 31, 5), 'body': 'Hjasfhlakh', 'createdAt': '2020-02-03T05:46:57.238Z', 'updatedAt': '2020-02-03T05:46:57.238Z', '__v': 0}\n"
     ]
    }
   ],
   "source": [
    "m.push_new_messages()\n",
    "queued = m.get_queued_message()\n",
    "m.delete_old_messages()\n",
    "print(queued)"
   ]
  },
  {
   "cell_type": "code",
   "execution_count": null,
   "metadata": {},
   "outputs": [],
   "source": []
  }
 ],
 "metadata": {
  "kernelspec": {
   "display_name": "Python 3",
   "language": "python",
   "name": "python3"
  },
  "language_info": {
   "codemirror_mode": {
    "name": "ipython",
    "version": 3
   },
   "file_extension": ".py",
   "mimetype": "text/x-python",
   "name": "python",
   "nbconvert_exporter": "python",
   "pygments_lexer": "ipython3",
   "version": "3.7.1"
  }
 },
 "nbformat": 4,
 "nbformat_minor": 2
}
